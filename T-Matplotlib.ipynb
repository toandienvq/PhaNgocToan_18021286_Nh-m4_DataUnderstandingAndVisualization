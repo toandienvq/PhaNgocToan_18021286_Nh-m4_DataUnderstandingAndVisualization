{
 "cells": [
  {
   "cell_type": "code",
   "execution_count": 1,
   "metadata": {},
   "outputs": [],
   "source": [
    "import pandas as pd\n",
    "import matplotlib.pyplot as plt\n",
    "import matplotlib.ticker as ticker\n",
    "import numpy as np"
   ]
  },
  {
   "cell_type": "code",
   "execution_count": 2,
   "metadata": {},
   "outputs": [
    {
     "data": {
      "text/html": [
       "<div>\n",
       "<style scoped>\n",
       "    .dataframe tbody tr th:only-of-type {\n",
       "        vertical-align: middle;\n",
       "    }\n",
       "\n",
       "    .dataframe tbody tr th {\n",
       "        vertical-align: top;\n",
       "    }\n",
       "\n",
       "    .dataframe thead th {\n",
       "        text-align: right;\n",
       "    }\n",
       "</style>\n",
       "<table border=\"1\" class=\"dataframe\">\n",
       "  <thead>\n",
       "    <tr style=\"text-align: right;\">\n",
       "      <th></th>\n",
       "      <th>Link</th>\n",
       "      <th>Loại hàng</th>\n",
       "      <th>Tên sản phẩm</th>\n",
       "      <th>giá</th>\n",
       "    </tr>\n",
       "  </thead>\n",
       "  <tbody>\n",
       "    <tr>\n",
       "      <th>0</th>\n",
       "      <td>https://www.sosanhgia.com/p186133-laptop-hp-pa...</td>\n",
       "      <td>Máy tính</td>\n",
       "      <td>Laptop HP Pavilion 15-CS3060TX 8RJ61PA</td>\n",
       "      <td>9.999.000</td>\n",
       "    </tr>\n",
       "    <tr>\n",
       "      <th>1</th>\n",
       "      <td>https://www.sosanhgia.com/p2884-macbook-air-md...</td>\n",
       "      <td>Máy tính</td>\n",
       "      <td>Macbook AIR MD711 11.6inch</td>\n",
       "      <td>9.900.000</td>\n",
       "    </tr>\n",
       "    <tr>\n",
       "      <th>2</th>\n",
       "      <td>https://www.sosanhgia.com/p5498-macbook-pro-mf...</td>\n",
       "      <td>Máy tính</td>\n",
       "      <td>Macbook Pro MF839 2015</td>\n",
       "      <td>23.978.740</td>\n",
       "    </tr>\n",
       "    <tr>\n",
       "      <th>3</th>\n",
       "      <td>https://www.sosanhgia.com/p37449-macbook-pro-m...</td>\n",
       "      <td>Máy tính</td>\n",
       "      <td>Macbook pro MD102 13.3inch</td>\n",
       "      <td>20.886.797</td>\n",
       "    </tr>\n",
       "    <tr>\n",
       "      <th>4</th>\n",
       "      <td>https://www.sosanhgia.com/p37455-macbook-pro-m...</td>\n",
       "      <td>Máy tính</td>\n",
       "      <td>Macbook pro ME662 13.3inch</td>\n",
       "      <td>19.574.044</td>\n",
       "    </tr>\n",
       "    <tr>\n",
       "      <th>5</th>\n",
       "      <td>https://www.sosanhgia.com/p172031-combo-hoa-ng...</td>\n",
       "      <td>Sách</td>\n",
       "      <td>Combo Hỏa Ngục + Thiên Thần Và Ác Quỷ</td>\n",
       "      <td>286.001</td>\n",
       "    </tr>\n",
       "    <tr>\n",
       "      <th>6</th>\n",
       "      <td>https://www.sosanhgia.com/p204015-combo-nguon-...</td>\n",
       "      <td>Sách</td>\n",
       "      <td>Combo Nguồn Cội + Thiên Thần Và Ác Quỷ</td>\n",
       "      <td>321.501</td>\n",
       "    </tr>\n",
       "    <tr>\n",
       "      <th>7</th>\n",
       "      <td>https://www.sosanhgia.com/p40045-may-photocopy...</td>\n",
       "      <td>Thiết bị VP</td>\n",
       "      <td>Máy photocopy Fuji Xerox S2520 CPS</td>\n",
       "      <td>26.950.000</td>\n",
       "    </tr>\n",
       "    <tr>\n",
       "      <th>8</th>\n",
       "      <td>https://www.sosanhgia.com/p110510-gom-stabilo-...</td>\n",
       "      <td>Thiết bị VP</td>\n",
       "      <td>Gôm STABILO Legend ER198</td>\n",
       "      <td>36.000</td>\n",
       "    </tr>\n",
       "    <tr>\n",
       "      <th>9</th>\n",
       "      <td>https://www.sosanhgia.com/p108513-kim-bam-ghim...</td>\n",
       "      <td>Thiết bị VP</td>\n",
       "      <td>Kìm bấm ghim Asaki AK-7105</td>\n",
       "      <td>80.000</td>\n",
       "    </tr>\n",
       "  </tbody>\n",
       "</table>\n",
       "</div>"
      ],
      "text/plain": [
       "                                                Link    Loại hàng  \\\n",
       "0  https://www.sosanhgia.com/p186133-laptop-hp-pa...     Máy tính   \n",
       "1  https://www.sosanhgia.com/p2884-macbook-air-md...     Máy tính   \n",
       "2  https://www.sosanhgia.com/p5498-macbook-pro-mf...     Máy tính   \n",
       "3  https://www.sosanhgia.com/p37449-macbook-pro-m...     Máy tính   \n",
       "4  https://www.sosanhgia.com/p37455-macbook-pro-m...     Máy tính   \n",
       "5  https://www.sosanhgia.com/p172031-combo-hoa-ng...         Sách   \n",
       "6  https://www.sosanhgia.com/p204015-combo-nguon-...         Sách   \n",
       "7  https://www.sosanhgia.com/p40045-may-photocopy...  Thiết bị VP   \n",
       "8  https://www.sosanhgia.com/p110510-gom-stabilo-...  Thiết bị VP   \n",
       "9  https://www.sosanhgia.com/p108513-kim-bam-ghim...  Thiết bị VP   \n",
       "\n",
       "                             Tên sản phẩm         giá  \n",
       "0  Laptop HP Pavilion 15-CS3060TX 8RJ61PA   9.999.000  \n",
       "1              Macbook AIR MD711 11.6inch   9.900.000  \n",
       "2                  Macbook Pro MF839 2015  23.978.740  \n",
       "3              Macbook pro MD102 13.3inch  20.886.797  \n",
       "4              Macbook pro ME662 13.3inch  19.574.044  \n",
       "5   Combo Hỏa Ngục + Thiên Thần Và Ác Quỷ     286.001  \n",
       "6  Combo Nguồn Cội + Thiên Thần Và Ác Quỷ     321.501  \n",
       "7     Máy photocopy Fuji Xerox S2520 CPS  26.950.000  \n",
       "8                Gôm STABILO Legend ER198      36.000  \n",
       "9              Kìm bấm ghim Asaki AK-7105      80.000  "
      ]
     },
     "execution_count": 2,
     "metadata": {},
     "output_type": "execute_result"
    }
   ],
   "source": [
    "Dt = pd.read_csv('gia.csv')\n",
    "Dt"
   ]
  },
  {
   "cell_type": "code",
   "execution_count": 8,
   "metadata": {},
   "outputs": [
    {
     "data": {
      "image/png": "[encoded data removed]",
      "text/plain": [
       "<Figure size 432x288 with 1 Axes>"
      ]
     },
     "metadata": {
      "needs_background": "light"
     },
     "output_type": "display_data"
    }
   ],
   "source": [
    "plt.xlabel('Sản phẩm')\n",
    "plt.ylabel('giá')\n",
    "plt.suptitle('Bảng thống kê')\n",
    "plt.bar('Loại hàng','giá', color='red')\n",
    "plt.show()"
   ]
  },
  {
   "cell_type": "code",
   "execution_count": 9,
   "metadata": {},
   "outputs": [
    {
     "name": "stdout",
     "output_type": "stream",
     "text": [
      "<class 'str'>\n",
      "<class 'str'>\n"
     ]
    }
   ],
   "source": [
    "print(type('Loại hàng'))\n",
    "print(type('giá'))\n",
    "\n"
   ]
  },
  {
   "cell_type": "code",
   "execution_count": 10,
   "metadata": {},
   "outputs": [
    {
     "data": {
      "image/png": "[encoded data removed]",
      "text/plain": [
       "<Figure size 432x288 with 1 Axes>"
      ]
     },
     "metadata": {
      "needs_background": "light"
     },
     "output_type": "display_data"
    }
   ],
   "source": [
    "plt.bar('Tên sản phẩm', 'Loại hàng')\n",
    "plt.show()"
   ]
  },
  {
   "cell_type": "code",
   "execution_count": 12,
   "metadata": {},
   "outputs": [
    {
     "name": "stdout",
     "output_type": "stream",
     "text": [
      "Index(['Link', 'Loại hàng', 'Tên sản phẩm', 'giá'], dtype='object')\n"
     ]
    }
   ],
   "source": [
    "print(Dt.keys())\n"
   ]
  },
  {
   "cell_type": "code",
   "execution_count": 13,
   "metadata": {},
   "outputs": [
    {
     "name": "stdout",
     "output_type": "stream",
     "text": [
      "0    https://www.sosanhgia.com/p186133-laptop-hp-pa...\n",
      "1    https://www.sosanhgia.com/p2884-macbook-air-md...\n",
      "2    https://www.sosanhgia.com/p5498-macbook-pro-mf...\n",
      "3    https://www.sosanhgia.com/p37449-macbook-pro-m...\n",
      "4    https://www.sosanhgia.com/p37455-macbook-pro-m...\n",
      "5    https://www.sosanhgia.com/p172031-combo-hoa-ng...\n",
      "6    https://www.sosanhgia.com/p204015-combo-nguon-...\n",
      "7    https://www.sosanhgia.com/p40045-may-photocopy...\n",
      "8    https://www.sosanhgia.com/p110510-gom-stabilo-...\n",
      "9    https://www.sosanhgia.com/p108513-kim-bam-ghim...\n",
      "Name: Link, dtype: object\n"
     ]
    }
   ],
   "source": [
    "print(Dt['Link'])"
   ]
  },
  {
   "cell_type": "code",
   "execution_count": 14,
   "metadata": {},
   "outputs": [
    {
     "ename": "SyntaxError",
     "evalue": "invalid syntax (<ipython-input-14-d794bf42335c>, line 1)",
     "output_type": "error",
     "traceback": [
      "\u001b[1;36m  File \u001b[1;32m\"<ipython-input-14-d794bf42335c>\"\u001b[1;36m, line \u001b[1;32m1\u001b[0m\n\u001b[1;33m    plt.bar(Link,Loại hàng)\u001b[0m\n\u001b[1;37m                         ^\u001b[0m\n\u001b[1;31mSyntaxError\u001b[0m\u001b[1;31m:\u001b[0m invalid syntax\n"
     ]
    }
   ],
   "source": [
    "plt.bar(Link,Loại hàng)\n",
    "plt.show()"
   ]
  },
  {
   "cell_type": "code",
   "execution_count": 15,
   "metadata": {},
   "outputs": [],
   "source": [
    "product= Dt['Tên sản phẩm']\n",
    "link = Dt['Link']\n",
    "price = Dt['giá']\n",
    "category = Dt['Loại hàng']"
   ]
  },
  {
   "cell_type": "code",
   "execution_count": 17,
   "metadata": {},
   "outputs": [
    {
     "data": {
      "image/png": "[encoded data removed]",
      "text/plain": [
       "<Figure size 432x288 with 1 Axes>"
      ]
     },
     "metadata": {
      "needs_background": "light"
     },
     "output_type": "display_data"
    }
   ],
   "source": [
    "plt.bar(link,category)\n",
    "plt.show()"
   ]
  },
  {
   "cell_type": "code",
   "execution_count": 18,
   "metadata": {},
   "outputs": [
    {
     "data": {
      "image/png": "[encoded data removed]",
      "text/plain": [
       "<Figure size 432x288 with 1 Axes>"
      ]
     },
     "metadata": {
      "needs_background": "light"
     },
     "output_type": "display_data"
    }
   ],
   "source": [
    "plt.bar(category,price)\n",
    "plt.show()"
   ]
  },
  {
   "cell_type": "code",
   "execution_count": 19,
   "metadata": {},
   "outputs": [
    {
     "data": {
      "image/png": "[encoded data removed]",
      "text/plain": [
       "<Figure size 432x288 with 1 Axes>"
      ]
     },
     "metadata": {
      "needs_background": "light"
     },
     "output_type": "display_data"
    }
   ],
   "source": [
    "plt.bar(price,category)\n",
    "plt.show()"
   ]
  },
  {
   "cell_type": "code",
   "execution_count": 20,
   "metadata": {},
   "outputs": [
    {
     "ename": "TypeError",
     "evalue": "bar() missing 1 required positional argument: 'height'",
     "output_type": "error",
     "traceback": [
      "\u001b[1;31m---------------------------------------------------------------------------\u001b[0m",
      "\u001b[1;31mTypeError\u001b[0m                                 Traceback (most recent call last)",
      "\u001b[1;32m<ipython-input-20-a63df8ea32eb>\u001b[0m in \u001b[0;36m<module>\u001b[1;34m\u001b[0m\n\u001b[1;32m----> 1\u001b[1;33m \u001b[0mplt\u001b[0m\u001b[1;33m.\u001b[0m\u001b[0mbar\u001b[0m\u001b[1;33m(\u001b[0m\u001b[0mcategory\u001b[0m\u001b[1;33m)\u001b[0m\u001b[1;33m\u001b[0m\u001b[1;33m\u001b[0m\u001b[0m\n\u001b[0m\u001b[0;32m      2\u001b[0m \u001b[0mplt\u001b[0m\u001b[1;33m.\u001b[0m\u001b[0mshow\u001b[0m\u001b[1;33m(\u001b[0m\u001b[1;33m)\u001b[0m\u001b[1;33m\u001b[0m\u001b[1;33m\u001b[0m\u001b[0m\n",
      "\u001b[1;31mTypeError\u001b[0m: bar() missing 1 required positional argument: 'height'"
     ]
    }
   ],
   "source": [
    "plt.bar(category)\n",
    "plt.show()"
   ]
  },
  {
   "cell_type": "code",
   "execution_count": 22,
   "metadata": {},
   "outputs": [
    {
     "data": {
      "text/plain": [
       "(10, 4)"
      ]
     },
     "execution_count": 22,
     "metadata": {},
     "output_type": "execute_result"
    }
   ],
   "source": [
    "Dt.shape\n"
   ]
  },
  {
   "cell_type": "code",
   "execution_count": 24,
   "metadata": {},
   "outputs": [
    {
     "data": {
      "image/png": "[encoded data removed]",
      "text/plain": [
       "<Figure size 432x288 with 1 Axes>"
      ]
     },
     "metadata": {},
     "output_type": "display_data"
    }
   ],
   "source": [
    "name = [\"Máy tính\" ,\"Sách \",\"Thiết bị VP\"]\n",
    "percent = [50,20,30]\n",
    "Explode = [0,0.1,0]\n",
    "plt.pie(percent,explode = Explode,labels =name,shadow=True,startangle=45)\n",
    "plt.axis('equal')\n",
    "plt.legend(title='List of Product')\n",
    "plt.show()"
   ]
  },
  {
   "cell_type": "code",
   "execution_count": 25,
   "metadata": {},
   "outputs": [
    {
     "data": {
      "text/html": [
       "<div>\n",
       "<style scoped>\n",
       "    .dataframe tbody tr th:only-of-type {\n",
       "        vertical-align: middle;\n",
       "    }\n",
       "\n",
       "    .dataframe tbody tr th {\n",
       "        vertical-align: top;\n",
       "    }\n",
       "\n",
       "    .dataframe thead th {\n",
       "        text-align: right;\n",
       "    }\n",
       "</style>\n",
       "<table border=\"1\" class=\"dataframe\">\n",
       "  <thead>\n",
       "    <tr style=\"text-align: right;\">\n",
       "      <th></th>\n",
       "      <th>Link</th>\n",
       "      <th>Loại hàng</th>\n",
       "      <th>Tên sản phẩm</th>\n",
       "      <th>giá</th>\n",
       "    </tr>\n",
       "  </thead>\n",
       "  <tbody>\n",
       "    <tr>\n",
       "      <th>0</th>\n",
       "      <td>https://www.sosanhgia.com/p186133-laptop-hp-pa...</td>\n",
       "      <td>Máy tính</td>\n",
       "      <td>Laptop HP Pavilion 15-CS3060TX 8RJ61PA</td>\n",
       "      <td>9.999.000</td>\n",
       "    </tr>\n",
       "    <tr>\n",
       "      <th>1</th>\n",
       "      <td>https://www.sosanhgia.com/p2884-macbook-air-md...</td>\n",
       "      <td>Máy tính</td>\n",
       "      <td>Macbook AIR MD711 11.6inch</td>\n",
       "      <td>9.900.000</td>\n",
       "    </tr>\n",
       "    <tr>\n",
       "      <th>2</th>\n",
       "      <td>https://www.sosanhgia.com/p5498-macbook-pro-mf...</td>\n",
       "      <td>Máy tính</td>\n",
       "      <td>Macbook Pro MF839 2015</td>\n",
       "      <td>23.978.740</td>\n",
       "    </tr>\n",
       "    <tr>\n",
       "      <th>3</th>\n",
       "      <td>https://www.sosanhgia.com/p37449-macbook-pro-m...</td>\n",
       "      <td>Máy tính</td>\n",
       "      <td>Macbook pro MD102 13.3inch</td>\n",
       "      <td>20.886.797</td>\n",
       "    </tr>\n",
       "    <tr>\n",
       "      <th>4</th>\n",
       "      <td>https://www.sosanhgia.com/p37455-macbook-pro-m...</td>\n",
       "      <td>Máy tính</td>\n",
       "      <td>Macbook pro ME662 13.3inch</td>\n",
       "      <td>19.574.044</td>\n",
       "    </tr>\n",
       "  </tbody>\n",
       "</table>\n",
       "</div>"
      ],
      "text/plain": [
       "                                                Link Loại hàng  \\\n",
       "0  https://www.sosanhgia.com/p186133-laptop-hp-pa...  Máy tính   \n",
       "1  https://www.sosanhgia.com/p2884-macbook-air-md...  Máy tính   \n",
       "2  https://www.sosanhgia.com/p5498-macbook-pro-mf...  Máy tính   \n",
       "3  https://www.sosanhgia.com/p37449-macbook-pro-m...  Máy tính   \n",
       "4  https://www.sosanhgia.com/p37455-macbook-pro-m...  Máy tính   \n",
       "\n",
       "                             Tên sản phẩm         giá  \n",
       "0  Laptop HP Pavilion 15-CS3060TX 8RJ61PA   9.999.000  \n",
       "1              Macbook AIR MD711 11.6inch   9.900.000  \n",
       "2                  Macbook Pro MF839 2015  23.978.740  \n",
       "3              Macbook pro MD102 13.3inch  20.886.797  \n",
       "4              Macbook pro ME662 13.3inch  19.574.044  "
      ]
     },
     "execution_count": 25,
     "metadata": {},
     "output_type": "execute_result"
    }
   ],
   "source": [
    "Dt[Dt['Loại hàng'] == 'Máy tính']"
   ]
  },
  {
   "cell_type": "code",
   "execution_count": null,
   "metadata": {},
   "outputs": [],
   "source": []
  }
 ],
 "metadata": {
  "kernelspec": {
   "display_name": "Python 3",
   "language": "python",
   "name": "python3"
  },
  "language_info": {
   "codemirror_mode": {
    "name": "ipython",
    "version": 3
   },
   "file_extension": ".py",
   "mimetype": "text/x-python",
   "name": "python",
   "nbconvert_exporter": "python",
   "pygments_lexer": "ipython3",
   "version": "3.7.6"
  }
 },
 "nbformat": 4,
 "nbformat_minor": 4
}
